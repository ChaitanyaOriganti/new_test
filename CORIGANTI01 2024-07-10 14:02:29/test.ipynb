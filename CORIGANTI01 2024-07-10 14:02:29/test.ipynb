use database NEW_TEST;

use schema SCHEMA_NAME;
  
CREATE OR REPLACE STAGE my_s3_stage
URL='s3://bigdataengineeringanudeep/';

CREATE OR REPLACE TABLE kc_house_data (
    id INTEGER,
    date DATE,
    price FLOAT,
    bedrooms INTEGER,
    bathrooms FLOAT,
    sqft_living INTEGER,
    sqft_lot INTEGER,
    floors FLOAT,
    waterfront BOOLEAN,
    view INTEGER,
    condition INTEGER,
    grade INTEGER,
    sqft_above INTEGER,
    sqft_basement INTEGER,
    yr_built INTEGER,
    yr_renovated INTEGER,
    zipcode INTEGER,
    lat FLOAT,
    long FLOAT,
    sqft_living15 INTEGER,
    sqft_lot15 INTEGER
);

COPY INTO kc_house_data
FROM @my_s3_stage/kc_house_data.csv
FILE_FORMAT = (TYPE = 'CSV' FIELD_OPTIONALLY_ENCLOSED_BY = '"');


